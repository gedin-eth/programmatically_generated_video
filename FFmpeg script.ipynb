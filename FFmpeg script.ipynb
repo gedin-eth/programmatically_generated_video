{
 "cells": [
  {
   "cell_type": "code",
   "execution_count": 12,
   "metadata": {},
   "outputs": [],
   "source": [
    "import ffmpeg\n",
    "import os"
   ]
  },
  {
   "cell_type": "code",
   "execution_count": 2,
   "metadata": {},
   "outputs": [],
   "source": [
    "import time"
   ]
  },
  {
   "cell_type": "code",
   "execution_count": null,
   "metadata": {},
   "outputs": [],
   "source": []
  },
  {
   "cell_type": "code",
   "execution_count": 3,
   "metadata": {},
   "outputs": [],
   "source": [
    "def combineIAV(path1, path2, path3, path4):\n",
    "    stream1 = ffmpeg.input(path1)\n",
    "    stream2 = ffmpeg.input(path2)\n",
    "    stream3 = ffmpeg.input(path3)\n",
    "    \n",
    "    stream4 = ffmpeg.filter([stream1, stream2], 'overlay', 380,220)\n",
    "    stream4 = ffmpeg.output(stream3, stream4, path4)\n",
    "    ffmpeg.run(stream4)\n",
    "    \n",
    "    "
   ]
  },
  {
   "cell_type": "code",
   "execution_count": null,
   "metadata": {},
   "outputs": [],
   "source": []
  },
  {
   "cell_type": "code",
   "execution_count": null,
   "metadata": {},
   "outputs": [],
   "source": []
  },
  {
   "cell_type": "code",
   "execution_count": 4,
   "metadata": {},
   "outputs": [],
   "source": [
    "stream1 = ffmpeg.input('/Users/kahlil/Documents/GedinSaurS/~GGI/trait-layers/spag/b1.mp4')\n",
    "stream2 = ffmpeg.input('/Users/kahlil/Documents/GedinSaurS/~GGI/images/100.png')\n",
    "stream3 = ffmpeg.input('Users/kahlil/Documents/GedinSaurS/~GGI/trait-layers/music/m1.mp3')"
   ]
  },
  {
   "cell_type": "code",
   "execution_count": 5,
   "metadata": {},
   "outputs": [],
   "source": [
    "stream4 = ffmpeg.filter([stream1,stream2], 'overlay', 380,220)"
   ]
  },
  {
   "cell_type": "code",
   "execution_count": 6,
   "metadata": {},
   "outputs": [],
   "source": [
    "stream4 = ffmpeg.output(stream3,stream4,'/Users/kahlil/funV/out5.mp4')"
   ]
  },
  {
   "cell_type": "code",
   "execution_count": 7,
   "metadata": {},
   "outputs": [
    {
     "name": "stdout",
     "output_type": "stream",
     "text": [
      "Time elapsed: 3.5758168697357178\n"
     ]
    }
   ],
   "source": [
    "start = time.time()\n",
    "\n",
    "ffmpeg.run(stream4)\n",
    "\n",
    "end = time.time()\n",
    "print (\"Time elapsed:\", end - start)"
   ]
  },
  {
   "cell_type": "code",
   "execution_count": null,
   "metadata": {},
   "outputs": [],
   "source": [
    "## read errors\n",
    "\n",
    "try:\n",
    "    ffmpeg.run(stream4, capture_stdout=True, capture_stderr=True)\n",
    "\n",
    "\n",
    "except ffmpeg.Error as e:\n",
    "                print('stdout:', e.stdout.decode('utf8'))\n",
    "                print('stderr:', e.stderr.decode('utf8'))\n",
    "                raise e"
   ]
  },
  {
   "cell_type": "code",
   "execution_count": 9,
   "metadata": {},
   "outputs": [],
   "source": [
    "def vid_resize(vid_path, output_path, width, overwrite = False):\n",
    "    '''\n",
    "    use ffmpeg to resize the input video to the width given, keeping aspect ratio\n",
    "    '''\n",
    "    if not( os.path.isdir(os.path.dirname(output_path))):\n",
    "        raise ValueError(f'output_path directory does not exists: {os.path.dirname(output_path)}')\n",
    "\n",
    "    if os.path.isfile(output_path) and not overwrite:\n",
    "        warnings.warn(f'{output_path} already exists but overwrite switch is False, nothing done.')\n",
    "        return None\n",
    "\n",
    "    input_vid = ffmpeg.input(vid_path)\n",
    "    vid = (\n",
    "        input_vid\n",
    "        .filter('scale', width, -1)\n",
    "        .output(output_path)\n",
    "        .overwrite_output()\n",
    "        .run()\n",
    "    )\n",
    "    return output_path"
   ]
  },
  {
   "cell_type": "code",
   "execution_count": null,
   "metadata": {},
   "outputs": [],
   "source": []
  },
  {
   "cell_type": "code",
   "execution_count": 19,
   "metadata": {},
   "outputs": [
    {
     "ename": "Error",
     "evalue": "ffmpeg error (see stderr output for detail)",
     "output_type": "error",
     "traceback": [
      "\u001b[0;31m---------------------------------------------------------------------------\u001b[0m",
      "\u001b[0;31mError\u001b[0m                                     Traceback (most recent call last)",
      "\u001b[0;32m<ipython-input-19-c3e0d03b9c5f>\u001b[0m in \u001b[0;36m<module>\u001b[0;34m\u001b[0m\n\u001b[0;32m----> 1\u001b[0;31m \u001b[0mnewmovie_path\u001b[0m \u001b[0;34m=\u001b[0m \u001b[0mvid_resize\u001b[0m\u001b[0;34m(\u001b[0m\u001b[0;34m\"/Users/kahlil/Documents/GedinSaurS/~GGI/trait-layers/spag/b7.mp4\"\u001b[0m\u001b[0;34m,\u001b[0m \u001b[0moutput_path\u001b[0m \u001b[0;34m=\u001b[0m \u001b[0;34m\"/Users/kahlil/Documents/GedinSaurS/~GGI/trait-layers/spag2/b7.mp4\"\u001b[0m\u001b[0;34m,\u001b[0m \u001b[0mwidth\u001b[0m \u001b[0;34m=\u001b[0m \u001b[0;36m900\u001b[0m\u001b[0;34m)\u001b[0m\u001b[0;34m\u001b[0m\u001b[0;34m\u001b[0m\u001b[0m\n\u001b[0m",
      "\u001b[0;32m<ipython-input-9-6e127a7cb8ea>\u001b[0m in \u001b[0;36mvid_resize\u001b[0;34m(vid_path, output_path, width, overwrite)\u001b[0m\n\u001b[1;32m     14\u001b[0m         \u001b[0minput_vid\u001b[0m\u001b[0;34m\u001b[0m\u001b[0;34m\u001b[0m\u001b[0m\n\u001b[1;32m     15\u001b[0m         \u001b[0;34m.\u001b[0m\u001b[0mfilter\u001b[0m\u001b[0;34m(\u001b[0m\u001b[0;34m'scale'\u001b[0m\u001b[0;34m,\u001b[0m \u001b[0mwidth\u001b[0m\u001b[0;34m,\u001b[0m \u001b[0;34m-\u001b[0m\u001b[0;36m1\u001b[0m\u001b[0;34m)\u001b[0m\u001b[0;34m\u001b[0m\u001b[0;34m\u001b[0m\u001b[0m\n\u001b[0;32m---> 16\u001b[0;31m         \u001b[0;34m.\u001b[0m\u001b[0moutput\u001b[0m\u001b[0;34m(\u001b[0m\u001b[0moutput_path\u001b[0m\u001b[0;34m)\u001b[0m\u001b[0;34m\u001b[0m\u001b[0;34m\u001b[0m\u001b[0m\n\u001b[0m\u001b[1;32m     17\u001b[0m         \u001b[0;34m.\u001b[0m\u001b[0moverwrite_output\u001b[0m\u001b[0;34m(\u001b[0m\u001b[0;34m)\u001b[0m\u001b[0;34m\u001b[0m\u001b[0;34m\u001b[0m\u001b[0m\n\u001b[1;32m     18\u001b[0m         \u001b[0;34m.\u001b[0m\u001b[0mrun\u001b[0m\u001b[0;34m(\u001b[0m\u001b[0;34m)\u001b[0m\u001b[0;34m\u001b[0m\u001b[0;34m\u001b[0m\u001b[0m\n",
      "\u001b[0;32m~/opt/anaconda3/lib/python3.7/site-packages/ffmpeg/_run.py\u001b[0m in \u001b[0;36mrun\u001b[0;34m(stream_spec, cmd, capture_stdout, capture_stderr, input, quiet, overwrite_output)\u001b[0m\n\u001b[1;32m    323\u001b[0m     \u001b[0mretcode\u001b[0m \u001b[0;34m=\u001b[0m \u001b[0mprocess\u001b[0m\u001b[0;34m.\u001b[0m\u001b[0mpoll\u001b[0m\u001b[0;34m(\u001b[0m\u001b[0;34m)\u001b[0m\u001b[0;34m\u001b[0m\u001b[0;34m\u001b[0m\u001b[0m\n\u001b[1;32m    324\u001b[0m     \u001b[0;32mif\u001b[0m \u001b[0mretcode\u001b[0m\u001b[0;34m:\u001b[0m\u001b[0;34m\u001b[0m\u001b[0;34m\u001b[0m\u001b[0m\n\u001b[0;32m--> 325\u001b[0;31m         \u001b[0;32mraise\u001b[0m \u001b[0mError\u001b[0m\u001b[0;34m(\u001b[0m\u001b[0;34m'ffmpeg'\u001b[0m\u001b[0;34m,\u001b[0m \u001b[0mout\u001b[0m\u001b[0;34m,\u001b[0m \u001b[0merr\u001b[0m\u001b[0;34m)\u001b[0m\u001b[0;34m\u001b[0m\u001b[0;34m\u001b[0m\u001b[0m\n\u001b[0m\u001b[1;32m    326\u001b[0m     \u001b[0;32mreturn\u001b[0m \u001b[0mout\u001b[0m\u001b[0;34m,\u001b[0m \u001b[0merr\u001b[0m\u001b[0;34m\u001b[0m\u001b[0;34m\u001b[0m\u001b[0m\n\u001b[1;32m    327\u001b[0m \u001b[0;34m\u001b[0m\u001b[0m\n",
      "\u001b[0;31mError\u001b[0m: ffmpeg error (see stderr output for detail)"
     ]
    }
   ],
   "source": [
    "newmovie_path = vid_resize(\"/Users/kahlil/Documents/GedinSaurS/~GGI/trait-layers/spag/b7.mp4\", output_path = \"/Users/kahlil/Documents/GedinSaurS/~GGI/trait-layers/spag2/b7.mp4\", width = 900)"
   ]
  },
  {
   "cell_type": "code",
   "execution_count": null,
   "metadata": {},
   "outputs": [],
   "source": []
  },
  {
   "cell_type": "code",
   "execution_count": null,
   "metadata": {},
   "outputs": [],
   "source": []
  }
 ],
 "metadata": {
  "kernelspec": {
   "display_name": "Python 3",
   "language": "python",
   "name": "python3"
  },
  "language_info": {
   "codemirror_mode": {
    "name": "ipython",
    "version": 3
   },
   "file_extension": ".py",
   "mimetype": "text/x-python",
   "name": "python",
   "nbconvert_exporter": "python",
   "pygments_lexer": "ipython3",
   "version": "3.7.4"
  }
 },
 "nbformat": 4,
 "nbformat_minor": 2
}
